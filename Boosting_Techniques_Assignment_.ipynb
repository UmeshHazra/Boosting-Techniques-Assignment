{
  "nbformat": 4,
  "nbformat_minor": 0,
  "metadata": {
    "colab": {
      "provenance": []
    },
    "kernelspec": {
      "name": "python3",
      "display_name": "Python 3"
    },
    "language_info": {
      "name": "python"
    }
  },
  "cells": [
    {
      "cell_type": "markdown",
      "source": [
        "Assignment Code: DA-AG-015  \n",
        "Boosting Techniques | Assignment\n",
        "\n",
        "Name:- Umesh Hazra\n",
        "\n",
        "Email:- hazraumesh27@gmail.com\n",
        "\n",
        "Assignment Name:- Boosting Techniques Assignment"
      ],
      "metadata": {
        "id": "r4gEaAyy8cEj"
      }
    },
    {
      "cell_type": "markdown",
      "source": [
        "Question 1: What is Boosting in Machine Learning? Explain how it\n",
        "improves weak learners.\n",
        "\n",
        "Answer:-  \n",
        "\n",
        "## What is Boosting in Machine Learning?\n",
        "\n",
        "**Boosting** is an ensemble technique in machine learning that combines multiple weak learners to build a strong predictive model. A weak learner is a model that performs slightly better than random chance (for example, a small decision tree). Boosting trains these weak learners sequentially, each one learning from the mistakes of its predecessor.\n",
        "\n",
        "### How Boosting Works\n",
        "\n",
        "- **Sequential Learning**: In boosting, learners are trained one after another, and each new learner focuses on the data points that previous learners misclassified.\n",
        "- **Weighted Data**: Each time a weak learner is trained, the data points that were mispredicted by the previous learners are given higher weights. This means subsequent models pay more attention to difficult cases.\n",
        "- **Combining Predictions**: The final prediction is made by aggregating the outputs (often weighted) of all weak learners, resulting in a strong ensemble.\n",
        "\n",
        "### How Boosting Improves Weak Learners\n",
        "\n",
        "Boosting transforms **weak learners**—which are only slightly better than random guessing—into a strong overall model by:\n",
        "\n",
        "- **Focusing on Hard Cases**: By concentrating on misclassified samples, boosting ensures that the ensemble learns patterns that single weak learners might miss.\n",
        "- **Reducing Bias**: Combining several weak learners decreases their individual biases, allowing the overall model to better fit the training data.\n",
        "- **Weighted Voting/Aggregation**: Boosted models often use a weighted voting system where more accurate learners contribute more to the final prediction.\n",
        "\n",
        "#### Example of a Boosting Algorithm\n",
        "\n",
        "The most common boosting algorithm is **AdaBoost (Adaptive Boosting)**. In AdaBoost:\n",
        "\n",
        "1. The first learner is trained on the entire dataset.\n",
        "2. Misclassified points are given higher weights.\n",
        "3. The next learner is trained with this weighted data, so it focuses more on those misclassified samples.\n",
        "4. This process repeats for a set number of weak learners.\n",
        "5. Final prediction is the weighted sum of all learners' predictions.\n",
        "\n"
      ],
      "metadata": {
        "id": "1Qbyh6sA8gZo"
      }
    },
    {
      "cell_type": "markdown",
      "source": [
        "Question 2: What is the difference between AdaBoost and Gradient\n",
        "Boosting in terms of how models are trained?\n",
        "\n",
        "Answer:-\n",
        "\n",
        "## AdaBoost vs Gradient Boosting: Model Training Differences\n",
        "\n",
        "### AdaBoost (Adaptive Boosting)\n",
        "\n",
        "- **Training Approach**: AdaBoost starts by training a weak learner (often a shallow decision tree) on the full data, giving equal weight to all samples. After each round, it *increases the weights* for misclassified samples, so future learners pay more attention to data points that previous models got wrong.\n",
        "- **Sequential Weighting**: Each new learner is trained on data with updated sample weights reflecting prior errors. This continues for each weak learner in the sequence.\n",
        "- **Final Model**: The ensemble combines all weak learners using a weighted vote, where each model's contribution is scaled according to its accuracy.[1][2][3]\n",
        "\n",
        "### Gradient Boosting\n",
        "\n",
        "- **Training Approach**: Gradient Boosting also builds learners sequentially, but it does so by fitting each new weak learner to the *residuals* (errors) left by previous models. Rather than manipulating sample weights, Gradient Boosting focuses on minimizing a differentiable loss function using gradient descent techniques.\n",
        "- **Residual Correction**: After each model, the algorithm computes the gradient of the loss function (the amount by which predictions should change to reduce error) and trains the next learner to predict these residuals or negative gradients.\n",
        "- **Final Model**: Each learner’s predictions are scaled (often by a learning rate) and then *added* to the previous predictions to update the ensemble. This continues until a stopping criterion is met.[4][5][6]\n",
        "\n",
        "### Key Differences\n",
        "\n",
        "| Aspect                | AdaBoost                                           | Gradient Boosting                        |\n",
        "|-----------------------|---------------------------------------------------|-------------------------------------------|\n",
        "| **Focus**             | Re-weights misclassified samples                   | Fits new models to minimize loss function |\n",
        "| **Learner Training**  | Trains on reweighted data                          | Trains on residuals/gradients             |\n",
        "| **Error Handling**    | Prioritizes hard-to-classify points                | Learns from errors (gradients)            |\n",
        "| **Loss Function**     | Typically exponential (can be generalized)         | Arbitrary, differentiable loss functions  |\n",
        "| **Update Process**    | Weighted voting of learner outputs                 | Summing predictions scaled by learning rate|\n",
        "| **Typical Weak Learner** | Shallow decision trees                        | Shallow decision trees or other models    |\n",
        "\n"
      ],
      "metadata": {
        "id": "458I3vAr8wky"
      }
    },
    {
      "cell_type": "markdown",
      "source": [
        "Question 3: How does regularization help in XGBoost?\n",
        "\n",
        "Answer:-\n",
        "\n",
        "## How Regularization Helps in XGBoost\n",
        "\n",
        "**Regularization in XGBoost** is a core feature designed to prevent overfitting and improve model generalization. XGBoost incorporates several regularization techniques into its objective function and model-building process:\n",
        "\n",
        "### Main Regularization Techniques in XGBoost\n",
        "\n",
        "- **L1 (Lasso) Regularization (`alpha` or `reg_alpha`)**\n",
        "  - Adds the absolute values of the feature weights to the loss function.\n",
        "  - Encourages sparsity by driving some feature weights to zero, resulting in a simpler and more interpretable model.\n",
        "\n",
        "- **L2 (Ridge) Regularization (`lambda` or `reg_lambda`)**\n",
        "  - Adds the squared values of the feature weights to the loss function.\n",
        "  - Encourages small, evenly distributed weights rather than driving them to zero, thus reducing model complexity.\n",
        "\n",
        "- **Early Stopping (`early_stopping_rounds`)**\n",
        "  - Stops training if a validation metric does not improve for a given number of rounds.\n",
        "  - Prevents the model from continuing to fit noise and overfitting the data.\n",
        "\n",
        "- **Tree-Specific Parameters**\n",
        "  - **`min_child_weight`**: Requires each leaf node to have a minimum sum of instance weights, reducing tree complexity and overfitting risk.\n",
        "  - **`gamma`**: Specifies the minimum loss reduction required to make a further partition, leading to more conservative splits and simpler models."
      ],
      "metadata": {
        "id": "VcujRqJf87Ii"
      }
    },
    {
      "cell_type": "markdown",
      "source": [
        "Question 4: Why is CatBoost considered efficient for handling\n",
        "categorical data?\n",
        "\n",
        "Answer:-\n",
        "\n",
        "## CatBoost’s Efficiency with Categorical Data\n",
        "\n",
        "CatBoost is considered highly efficient for handling categorical data due to several unique features and design principles:\n",
        "\n",
        "### 1. **Native Categorical Feature Support**\n",
        "- CatBoost can process categorical variables directly, **without any explicit preprocessing like label encoding or one-hot encoding** required by most other algorithms.[1][4]\n",
        "- It automatically converts categorical values into numerical representations using statistical methods and combinations of features, making the process seamless and less error-prone.[5]\n",
        "\n",
        "### 2. **Advanced Encoding Techniques**\n",
        "- CatBoost uses **ordered boosting** and the concept of **combinatorial categorical features**, which means it not only encodes single categorical columns but also leverages interactions between multiple categorical and numerical features to generate meaningful representations.[1][5]\n",
        "- Categorical values are transformed based on various statistics derived from the target variable and the combinations of feature values, which improves the quality of encoding and predictive power.\n",
        "\n",
        "### 3. **Prevents Target Leakage**\n",
        "- The encoding process is designed to avoid target leakage by using a special permutation-driven approach, meaning statistics used for encoding are calculated per permutation and are not directly derived from the full dataset, which preserves the validity of training.[5]\n",
        "\n",
        "### 4. **Efficient and Robust Training**\n",
        "- CatBoost’s handling reduces the likelihood of overfitting that often occurs with one-hot encoding, especially for high-cardinality features (features with many unique categories).[4]\n",
        "- It is particularly well-suited for large-scale datasets containing both numeric and categorical features, and its automation simplifies workflows for practitioners.[4]\n",
        "\n"
      ],
      "metadata": {
        "id": "RGDP3NEG9H8n"
      }
    },
    {
      "cell_type": "markdown",
      "source": [
        "Question 5: What are some real-world applications where boosting\n",
        "techniques are preferred over bagging methods?\n",
        "\n",
        "Answer:-\n",
        "\n",
        "## Real-World Applications Where Boosting Is Preferred Over Bagging\n",
        "\n",
        "Boosting methods (such as AdaBoost, Gradient Boosting, XGBoost, and CatBoost) are especially preferred in scenarios where *high prediction accuracy* and *sequential error correction* are crucial. Here are several key real-world applications:\n",
        "\n",
        "### 1. **Medical Diagnosis**\n",
        "- Boosting techniques are often chosen for medical prediction tasks (e.g., disease classification, risk prediction) because they can uncover subtle patterns by sequentially correcting misclassifications, thus achieving higher accuracy when data quality is high and minimizing bias is critical.[1][5]\n",
        "\n",
        "### 2. **Credit Scoring and Fraud Detection**\n",
        "- In finance, boosting models perform well for credit risk analysis and fraud detection, where misclassifications have financial repercussions and accuracy outweighs the dangers of overfitting. Boosting’s ability to focus on hard-to-classify cases is beneficial for detecting rare fraudulent transactions.[5][1]\n",
        "\n",
        "### 3. **Customer Churn Prediction**\n",
        "- Telecom and subscription services use boosting for predicting customer churn, as these models adapt to complex decision boundaries and deliver superior predictive performance important for business strategy.[3][5]\n",
        "\n",
        "### 4. **Web Search Rankings and Recommendation Systems**\n",
        "- Boosting (particularly Gradient Boosted Decision Trees and XGBoost) powers many search engine ranking and recommendation algorithms, where incremental gains in accuracy from sequential error correction drive user engagement and business results.[1]\n",
        "\n",
        "### 5. **Image Recognition and Natural Language Processing**\n",
        "- When high accuracy in classification is needed (e.g., facial recognition, sentiment analysis, spam detection), boosting is preferred because it can build complex decision functions that bagging sometimes cannot replicate, and it thrives on low-bias base learners.[6]\n",
        "\n"
      ],
      "metadata": {
        "id": "S7YAmFyw9Zfc"
      }
    },
    {
      "cell_type": "markdown",
      "source": [
        "Question 6: Write a Python program to:  \n",
        "● Train an AdaBoost Classifier on the Breast Cancer dataset  \n",
        "● Print the model accuracy\n",
        "\n",
        "Answer:-"
      ],
      "metadata": {
        "id": "BRhYMaRY9pjj"
      }
    },
    {
      "cell_type": "code",
      "source": [
        "from sklearn.datasets import load_breast_cancer\n",
        "from sklearn.model_selection import train_test_split\n",
        "from sklearn.ensemble import AdaBoostClassifier\n",
        "from sklearn.metrics import accuracy_score\n",
        "\n",
        "import warnings\n",
        "warnings.filterwarnings('ignore')\n",
        "\n",
        "data = load_breast_cancer()\n",
        "X, y = data.data, data.target\n",
        "\n",
        "X_train, X_test, y_train, y_test = train_test_split(X, y,\n",
        "test_size=0.2, random_state=42)\n",
        "\n",
        "classifier = AdaBoostClassifier(random_state=42)\n",
        "classifier.fit(X_train, y_train)\n",
        "\n",
        "y_pred = classifier.predict(X_test)\n",
        "\n",
        "accuracy = accuracy_score(y_test, y_pred)\n",
        "print(\"AdaBoost Classifier Accuracy on Breast Cancer Dataset: {:.2f}%\".format(accuracy * 100))"
      ],
      "metadata": {
        "colab": {
          "base_uri": "https://localhost:8080/"
        },
        "id": "53O3zJ0g9uR2",
        "outputId": "f2632874-affb-432e-a60b-91edf2634bd9"
      },
      "execution_count": 3,
      "outputs": [
        {
          "output_type": "stream",
          "name": "stdout",
          "text": [
            "AdaBoost Classifier Accuracy on Breast Cancer Dataset: 96.49%\n"
          ]
        }
      ]
    },
    {
      "cell_type": "markdown",
      "source": [
        "Question 7: Write a Python program to:  \n",
        "● Train a Gradient Boosting Regressor on the California Housing dataset\n",
        "● Evaluate performance using R-squared score\n",
        "\n",
        "Answer:-  "
      ],
      "metadata": {
        "id": "zxoiKyDm-asz"
      }
    },
    {
      "cell_type": "code",
      "source": [
        "from sklearn.datasets import fetch_california_housing\n",
        "from sklearn.model_selection import train_test_split\n",
        "from sklearn.ensemble import GradientBoostingRegressor\n",
        "from sklearn.metrics import r2_score\n",
        "\n",
        "import warnings\n",
        "warnings.filterwarnings('ignore')\n",
        "\n",
        "data = fetch_california_housing()\n",
        "X, y = data.data, data.target\n",
        "\n",
        "X_train, X_test, y_train, y_test = train_test_split(X, y,\n",
        "test_size=0.2, random_state=42)\n",
        "\n",
        "regressor = GradientBoostingRegressor(random_state=42)\n",
        "regressor.fit(X_train, y_train)\n",
        "\n",
        "y_pred = regressor.predict(X_test)\n",
        "\n",
        "r2 = r2_score(y_test, y_pred)\n",
        "print(\"Gradient Boosting Regressor R-squared score on California Housing Dataset: {:.4f}\".format(r2))"
      ],
      "metadata": {
        "id": "PhWYj094-fZ1",
        "outputId": "0f72d02d-6a50-4e06-947c-a1ee587afb92",
        "colab": {
          "base_uri": "https://localhost:8080/"
        }
      },
      "execution_count": 4,
      "outputs": [
        {
          "output_type": "stream",
          "name": "stdout",
          "text": [
            "Gradient Boosting Regressor R-squared score on California Housing Dataset: 0.7756\n"
          ]
        }
      ]
    },
    {
      "cell_type": "markdown",
      "source": [
        "Question 8: Write a Python program to:  \n",
        "● Train an XGBoost Classifier on the Breast Cancer dataset  \n",
        "● Tune the learning rate using GridSearchCV  \n",
        "● Print the best parameters and accuracy\n",
        "\n",
        "Answer:-"
      ],
      "metadata": {
        "id": "o-DALxK4-lXN"
      }
    },
    {
      "cell_type": "code",
      "source": [
        "from sklearn.datasets import load_breast_cancer\n",
        "from sklearn.model_selection import train_test_split, GridSearchCV\n",
        "from xgboost import XGBClassifier\n",
        "from sklearn.metrics import accuracy_score\n",
        "\n",
        "import warnings\n",
        "warnings.filterwarnings('ignore')\n",
        "\n",
        "data = load_breast_cancer()\n",
        "X, y = data.data, data.target\n",
        "\n",
        "X_train, X_test, y_train, y_test = train_test_split(X, y,\n",
        "test_size=0.2, random_state=42)\n",
        "\n",
        "xgb = XGBClassifier(use_label_encoder=False, eval_metric='logloss',\n",
        "random_state=42)\n",
        "\n",
        "param_grid = {'learning_rate': [0.01, 0.05, 0.1, 0.2, 0.3]}\n",
        "\n",
        "grid_search = GridSearchCV(xgb, param_grid, cv=5, scoring='accuracy',\n",
        "n_jobs=-1)\n",
        "grid_search.fit(X_train, y_train)\n",
        "\n",
        "# Best parameters\n",
        "print(\"Best Parameters:\", grid_search.best_params_)\n",
        "\n",
        "best_model = grid_search.best_estimator_\n",
        "y_pred = best_model.predict(X_test)\n",
        "\n",
        "# Accuracy\n",
        "accuracy = accuracy_score(y_test, y_pred)\n",
        "print(\"XGBoost Classifier Accuracy on Breast Cancer Dataset: {:.2f}%\".format(accuracy * 100))"
      ],
      "metadata": {
        "id": "nkVtkC0x-pnQ",
        "outputId": "54222b27-46f2-41f5-90d6-5b7bcbe0d3c8",
        "colab": {
          "base_uri": "https://localhost:8080/"
        }
      },
      "execution_count": 5,
      "outputs": [
        {
          "output_type": "stream",
          "name": "stdout",
          "text": [
            "Best Parameters: {'learning_rate': 0.2}\n",
            "XGBoost Classifier Accuracy on Breast Cancer Dataset: 95.61%\n"
          ]
        }
      ]
    },
    {
      "cell_type": "markdown",
      "source": [
        "Question 9: Write a Python program to:  \n",
        "● Train a CatBoost Classifier  \n",
        "● Plot the confusion matrix using seaborn  \n",
        "\n",
        "Answer:-"
      ],
      "metadata": {
        "id": "LP7wXCeH-wGj"
      }
    },
    {
      "cell_type": "code",
      "source": [
        "from sklearn.datasets import load_breast_cancer\n",
        "from sklearn.model_selection import train_test_split\n",
        "from catboost import CatBoostClassifier\n",
        "from sklearn.metrics import confusion_matrix\n",
        "import seaborn as sns\n",
        "import matplotlib.pyplot as plt\n",
        "\n",
        "import warnings\n",
        "warnings.filterwarnings('ignore')\n",
        "\n",
        "data = load_breast_cancer()\n",
        "X, y = data.data, data.target\n",
        "\n",
        "X_train, X_test, y_train, y_test = train_test_split(X, y,\n",
        "test_size=0.2, random_state=42)\n",
        "\n",
        "clf = CatBoostClassifier(verbose=0, random_state=42)\n",
        "clf.fit(X_train, y_train)\n",
        "\n",
        "y_pred = clf.predict(X_test)\n",
        "\n",
        "# Compute confusion matrix\n",
        "cm = confusion_matrix(y_test, y_pred)\n",
        "\n",
        "# Plot using seaborn\n",
        "sns.heatmap(cm, annot=True, fmt='d', cmap='Blues')\n",
        "plt.title(\"CatBoost Classifier Confusion Matrix\")\n",
        "plt.xlabel(\"Predicted\")\n",
        "plt.ylabel(\"Actual\")\n",
        "plt.show()"
      ],
      "metadata": {
        "id": "U9HKJoRj-zzP",
        "outputId": "1d96ab70-c7d9-4de2-930a-8518817331ef",
        "colab": {
          "base_uri": "https://localhost:8080/",
          "height": 472
        }
      },
      "execution_count": 8,
      "outputs": [
        {
          "output_type": "display_data",
          "data": {
            "text/plain": [
              "<Figure size 640x480 with 2 Axes>"
            ],
            "image/png": "[encoded data removed]"
          },
          "metadata": {}
        }
      ]
    },
    {
      "cell_type": "markdown",
      "source": [
        "Question 10: You're working for a FinTech company trying to predict\n",
        "loan default using customer demographics and transaction behavior.\n",
        "The dataset is imbalanced, contains missing values, and has both\n",
        "numeric and categorical features. Describe your step-by-step data\n",
        "science pipeline using boosting techniques:  \n",
        "● Data preprocessing & handling missing/categorical values  \n",
        "● Choice between AdaBoost, XGBoost, or CatBoost  \n",
        "● Hyperparameter tuning strategy  \n",
        "● Evaluation metrics you'd choose and why  \n",
        "● How the business would benefit from your model\n",
        "\n",
        "Answer:-\n",
        "\n",
        "## Step-by-Step Data Science Pipeline for Loan Default Prediction (Imbalanced, Mixed Data)\n",
        "\n",
        "***\n",
        "\n",
        "### 1. **Data Preprocessing**\n",
        "\n",
        "- **Missing Values**\n",
        "  - *Numeric features*: Impute missing values using median (robust to outliers) or advanced techniques like KNN imputation if patterns exist.\n",
        "  - *Categorical features*: Impute using the most frequent category or introduce a new category (e.g., “Unknown”) to retain missingness information.\n",
        "\n",
        "- **Categorical Variables**\n",
        "  - Use encoding strategies compatible with chosen boosting algorithms:\n",
        "    - For **AdaBoost/XGBoost**: Apply label encoding for ordinal data and target/one-hot encoding for nominal data with few unique values. For high-cardinality, use target or frequency encoding.\n",
        "    - For **CatBoost**: No manual encoding needed—CatBoost handles raw categorical features natively.\n",
        "\n",
        "- **Imbalanced Classes**\n",
        "  - Use oversampling (SMOTE), undersampling, or class weight adjustments. Most boosting algorithms allow class weights to be specified to mitigate bias toward the majority class.\n",
        "\n",
        "- **Feature Scaling**\n",
        "  - Scaling is less critical for tree-based boosting, but normalization can help with other models or for feature comparison.\n",
        "\n",
        "***\n",
        "\n",
        "### 2. **Choice of Boosting Algorithm**\n",
        "\n",
        "- **AdaBoost** is less optimal for complex, heterogeneous datasets—especially with categorical features and missing data.\n",
        "- **XGBoost**\n",
        "  - Handles numeric data efficiently.\n",
        "  - Can manage missing values internally.\n",
        "  - Requires manual encoding for categorical data.\n",
        "- **CatBoost** *(Recommended)*\n",
        "  - Designed for heterogeneous, mixed-type datasets.\n",
        "  - Natively manages categorical variables, missing values, and is robust to class imbalance with “auto” handling.\n",
        "  - Requires less manual preprocessing, reducing risk of information leakage or encoding errors.\n",
        "\n",
        "***\n",
        "\n",
        "### 3. **Hyperparameter Tuning Strategy**\n",
        "\n",
        "- Use **GridSearchCV** or **RandomizedSearchCV** for systematic hyperparameter exploration.\n",
        "  - Key hyperparameters to tune:\n",
        "    - Learning rate\n",
        "    - Number of estimators (trees)\n",
        "    - Maximum tree depth\n",
        "    - Regularization parameters (`reg_alpha`, `reg_lambda` for XGBoost; L2_leaf_reg for CatBoost)\n",
        "    - Boosting type (for CatBoost: Ordered, Plain)\n",
        "    - Categorical feature handling options\n",
        "  - Prefer stratified cross-validation to preserve class ratios due to imbalance.\n",
        "  - BayesSearchCV (from `scikit-optimize`) can be used for efficient, probabilistic searching.\n",
        "\n",
        "***\n",
        "\n",
        "### 4. **Evaluation Metrics**\n",
        "\n",
        "- **Primary Metrics** (suited for imbalanced classification):\n",
        "  - **AUC-ROC (Area Under Receiver Operating Characteristic Curve)**: Measures the ability to distinguish default vs. non-default across thresholds.\n",
        "  - **F1 Score**: Balances precision and recall, especially important for detecting minority class (defaults).\n",
        "  - **Recall/Sensitivity**: Critical to minimize false negatives so defaults are not missed.\n",
        "  - **Precision**: To avoid flagging too many non-defaulters as risky.\n",
        "- **Secondary Metrics**:\n",
        "  - Confusion Matrix\n",
        "  - PR (Precision-Recall) Curve\n",
        "  - Matthews Correlation Coefficient (MCC)\n",
        "\n",
        "***\n",
        "\n",
        "### 5. **Business Value/Impact**\n",
        "\n",
        "- **Risk Mitigation:** By accurately predicting loan defaults, the company reduces financial losses and controls risk exposure.\n",
        "- **Credit Policy Optimization:** The model enables tailored interest rates and limits, improving customer targeting and retention.\n",
        "- **Fraud Detection Synergy:** Boosting techniques capture subtle patterns, making fraud and risky behaviors easier to detect.\n",
        "- **Regulatory Compliance:** Reliable predictions provide better documentation for compliance and audit trails.\n",
        "- **Improved Profitability:** Proactive risk management translates to lower provision costs and higher net income."
      ],
      "metadata": {
        "id": "LiJL2bAf_Jtj"
      }
    }
  ]
}